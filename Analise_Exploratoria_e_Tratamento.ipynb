{
 "cells": [
  {
   "cell_type": "markdown",
   "id": "81d80f84",
   "metadata": {},
   "source": [
    "# Análise Exploratória do Banco de Dados de Salários de Profissionais da Área de Dados"
   ]
  },
  {
   "cell_type": "code",
   "execution_count": 53,
   "id": "b5a9acef",
   "metadata": {},
   "outputs": [],
   "source": [
    "import seaborn as sns\n",
    "import matplotlib.pyplot as plt\n",
    "import pandas as pd\n",
    "import numpy as np"
   ]
  },
  {
   "cell_type": "markdown",
   "id": "61532599",
   "metadata": {},
   "source": [
    "## Análise de nulos"
   ]
  },
  {
   "cell_type": "code",
   "execution_count": 54,
   "id": "18eab9de",
   "metadata": {
    "scrolled": true
   },
   "outputs": [
    {
     "name": "stdout",
     "output_type": "stream",
     "text": [
      "<class 'pandas.core.frame.DataFrame'>\n",
      "RangeIndex: 3755 entries, 0 to 3754\n",
      "Data columns (total 11 columns):\n",
      " #   Column              Non-Null Count  Dtype \n",
      "---  ------              --------------  ----- \n",
      " 0   work_year           3755 non-null   int64 \n",
      " 1   experience_level    3755 non-null   object\n",
      " 2   employment_type     3755 non-null   object\n",
      " 3   job_title           3755 non-null   object\n",
      " 4   salary              3755 non-null   int64 \n",
      " 5   salary_currency     3755 non-null   object\n",
      " 6   salary_in_usd       3755 non-null   int64 \n",
      " 7   employee_residence  3755 non-null   object\n",
      " 8   remote_ratio        3755 non-null   int64 \n",
      " 9   company_location    3755 non-null   object\n",
      " 10  company_size        3755 non-null   object\n",
      "dtypes: int64(4), object(7)\n",
      "memory usage: 322.8+ KB\n",
      "         work_year        salary  salary_in_usd  remote_ratio\n",
      "count  3755.000000  3.755000e+03    3755.000000   3755.000000\n",
      "mean   2022.373635  1.906956e+05  137570.389880     46.271638\n",
      "std       0.691448  6.716765e+05   63055.625278     48.589050\n",
      "min    2020.000000  6.000000e+03    5132.000000      0.000000\n",
      "25%    2022.000000  1.000000e+05   95000.000000      0.000000\n",
      "50%    2022.000000  1.380000e+05  135000.000000      0.000000\n",
      "75%    2023.000000  1.800000e+05  175000.000000    100.000000\n",
      "max    2023.000000  3.040000e+07  450000.000000    100.000000 \n",
      " None\n"
     ]
    }
   ],
   "source": [
    "df=pd.read_csv(\"D:\\Desktop\\ds_salaries.csv\")\n",
    "\n",
    "#Obtendo informações do dataset\n",
    "print(df.describe(),'\\n',df.info())"
   ]
  },
  {
   "cell_type": "markdown",
   "id": "9a2f800e",
   "metadata": {},
   "source": [
    "### Não há nulos"
   ]
  },
  {
   "cell_type": "markdown",
   "id": "25a84aef",
   "metadata": {},
   "source": [
    "## Separando os tipos de colunas"
   ]
  },
  {
   "cell_type": "code",
   "execution_count": 55,
   "id": "20d27fc7",
   "metadata": {},
   "outputs": [],
   "source": [
    "#Deletando a coluna salary, pois já tem uma que é salary_in_usd que padroniza as colunas\n",
    "df=df.drop('salary',axis=1)\n",
    "\n",
    "#Separando as colunas qualitativas e quantitativas\n",
    "quali=df.select_dtypes(include='object').columns\n",
    "quanti=df.select_dtypes(exclude='object').columns"
   ]
  },
  {
   "cell_type": "markdown",
   "id": "1d02af31",
   "metadata": {},
   "source": [
    "## Análise das colunas categóricas"
   ]
  },
  {
   "cell_type": "code",
   "execution_count": 56,
   "id": "d6999de4",
   "metadata": {},
   "outputs": [
    {
     "name": "stdout",
     "output_type": "stream",
     "text": [
      "Coluna experience_level\n",
      "['SE' 'MI' 'EN' 'EX']\n",
      "Coluna employment_type\n",
      "['FT' 'CT' 'FL' 'PT']\n",
      "Coluna job_title\n",
      "['Principal Data Scientist' 'ML Engineer' 'Data Scientist'\n",
      " 'Applied Scientist' 'Data Analyst' 'Data Modeler' 'Research Engineer'\n",
      " 'Analytics Engineer' 'Business Intelligence Engineer'\n",
      " 'Machine Learning Engineer' 'Data Strategist' 'Data Engineer'\n",
      " 'Computer Vision Engineer' 'Data Quality Analyst'\n",
      " 'Compliance Data Analyst' 'Data Architect'\n",
      " 'Applied Machine Learning Engineer' 'AI Developer' 'Research Scientist'\n",
      " 'Data Analytics Manager' 'Business Data Analyst' 'Applied Data Scientist'\n",
      " 'Staff Data Analyst' 'ETL Engineer' 'Data DevOps Engineer' 'Head of Data'\n",
      " 'Data Science Manager' 'Data Manager' 'Machine Learning Researcher'\n",
      " 'Big Data Engineer' 'Data Specialist' 'Lead Data Analyst'\n",
      " 'BI Data Engineer' 'Director of Data Science'\n",
      " 'Machine Learning Scientist' 'MLOps Engineer' 'AI Scientist'\n",
      " 'Autonomous Vehicle Technician' 'Applied Machine Learning Scientist'\n",
      " 'Lead Data Scientist' 'Cloud Database Engineer' 'Financial Data Analyst'\n",
      " 'Data Infrastructure Engineer' 'Software Data Engineer' 'AI Programmer'\n",
      " 'Data Operations Engineer' 'BI Developer' 'Data Science Lead'\n",
      " 'Deep Learning Researcher' 'BI Analyst' 'Data Science Consultant'\n",
      " 'Data Analytics Specialist' 'Machine Learning Infrastructure Engineer'\n",
      " 'BI Data Analyst' 'Head of Data Science' 'Insight Analyst'\n",
      " 'Deep Learning Engineer' 'Machine Learning Software Engineer'\n",
      " 'Big Data Architect' 'Product Data Analyst'\n",
      " 'Computer Vision Software Engineer' 'Azure Data Engineer'\n",
      " 'Marketing Data Engineer' 'Data Analytics Lead' 'Data Lead'\n",
      " 'Data Science Engineer' 'Machine Learning Research Engineer'\n",
      " 'NLP Engineer' 'Manager Data Management' 'Machine Learning Developer'\n",
      " '3D Computer Vision Researcher' 'Principal Machine Learning Engineer'\n",
      " 'Data Analytics Engineer' 'Data Analytics Consultant'\n",
      " 'Data Management Specialist' 'Data Science Tech Lead'\n",
      " 'Data Scientist Lead' 'Cloud Data Engineer' 'Data Operations Analyst'\n",
      " 'Marketing Data Analyst' 'Power BI Developer' 'Product Data Scientist'\n",
      " 'Principal Data Architect' 'Machine Learning Manager'\n",
      " 'Lead Machine Learning Engineer' 'ETL Developer' 'Cloud Data Architect'\n",
      " 'Lead Data Engineer' 'Head of Machine Learning' 'Principal Data Analyst'\n",
      " 'Principal Data Engineer' 'Staff Data Scientist' 'Finance Data Analyst']\n",
      "Coluna salary_currency\n",
      "['EUR' 'USD' 'INR' 'HKD' 'CHF' 'GBP' 'AUD' 'SGD' 'CAD' 'ILS' 'BRL' 'THB'\n",
      " 'PLN' 'HUF' 'CZK' 'DKK' 'JPY' 'MXN' 'TRY' 'CLP']\n",
      "Coluna employee_residence\n",
      "['ES' 'US' 'CA' 'DE' 'GB' 'NG' 'IN' 'HK' 'PT' 'NL' 'CH' 'CF' 'FR' 'AU'\n",
      " 'FI' 'UA' 'IE' 'IL' 'GH' 'AT' 'CO' 'SG' 'SE' 'SI' 'MX' 'UZ' 'BR' 'TH'\n",
      " 'HR' 'PL' 'KW' 'VN' 'CY' 'AR' 'AM' 'BA' 'KE' 'GR' 'MK' 'LV' 'RO' 'PK'\n",
      " 'IT' 'MA' 'LT' 'BE' 'AS' 'IR' 'HU' 'SK' 'CN' 'CZ' 'CR' 'TR' 'CL' 'PR'\n",
      " 'DK' 'BO' 'PH' 'DO' 'EG' 'ID' 'AE' 'MY' 'JP' 'EE' 'HN' 'TN' 'RU' 'DZ'\n",
      " 'IQ' 'BG' 'JE' 'RS' 'NZ' 'MD' 'LU' 'MT']\n",
      "Coluna company_location\n",
      "['ES' 'US' 'CA' 'DE' 'GB' 'NG' 'IN' 'HK' 'NL' 'CH' 'CF' 'FR' 'FI' 'UA'\n",
      " 'IE' 'IL' 'GH' 'CO' 'SG' 'AU' 'SE' 'SI' 'MX' 'BR' 'PT' 'RU' 'TH' 'HR'\n",
      " 'VN' 'EE' 'AM' 'BA' 'KE' 'GR' 'MK' 'LV' 'RO' 'PK' 'IT' 'MA' 'PL' 'AL'\n",
      " 'AR' 'LT' 'AS' 'CR' 'IR' 'BS' 'HU' 'AT' 'SK' 'CZ' 'TR' 'PR' 'DK' 'BO'\n",
      " 'PH' 'BE' 'ID' 'EG' 'AE' 'LU' 'MY' 'HN' 'JP' 'DZ' 'IQ' 'CN' 'NZ' 'CL'\n",
      " 'MD' 'MT']\n",
      "Coluna company_size\n",
      "['L' 'S' 'M']\n"
     ]
    }
   ],
   "source": [
    "for i in quali:\n",
    "    print('Coluna '+str(i))\n",
    "    print(df[i].unique())\n"
   ]
  },
  {
   "cell_type": "markdown",
   "id": "9e53c3d9",
   "metadata": {},
   "source": [
    "## Análise de outliers"
   ]
  },
  {
   "cell_type": "code",
   "execution_count": 57,
   "id": "785b73bf",
   "metadata": {},
   "outputs": [
    {
     "data": {
      "text/plain": [
       "<AxesSubplot:>"
      ]
     },
     "execution_count": 57,
     "metadata": {},
     "output_type": "execute_result"
    },
    {
     "data": {
      "image/png": "[encoded data removed]",
      "text/plain": [
       "<Figure size 1440x720 with 1 Axes>"
      ]
     },
     "metadata": {
      "needs_background": "light"
     },
     "output_type": "display_data"
    }
   ],
   "source": [
    "plt.figure(figsize=(20,10))\n",
    "df.boxplot()"
   ]
  },
  {
   "cell_type": "markdown",
   "id": "4e03810d",
   "metadata": {},
   "source": [
    "## Verificando outliers por nível de experiência"
   ]
  },
  {
   "cell_type": "code",
   "execution_count": 58,
   "id": "d09cd9f7",
   "metadata": {},
   "outputs": [
    {
     "data": {
      "text/plain": [
       "<AxesSubplot:xlabel='experience_level', ylabel='salary_in_usd'>"
      ]
     },
     "execution_count": 58,
     "metadata": {},
     "output_type": "execute_result"
    },
    {
     "data": {
      "image/png": "[encoded data removed]",
      "text/plain": [
       "<Figure size 432x288 with 1 Axes>"
      ]
     },
     "metadata": {
      "needs_background": "light"
     },
     "output_type": "display_data"
    }
   ],
   "source": [
    "sns.boxplot(data=df,x='experience_level',y='salary_in_usd')"
   ]
  },
  {
   "cell_type": "markdown",
   "id": "04af0600",
   "metadata": {},
   "source": [
    "## Avaliando porcentagem de outliers"
   ]
  },
  {
   "cell_type": "markdown",
   "id": "539af735",
   "metadata": {},
   "source": [
    "### Criando máscara para cada tipo de experience_level"
   ]
  },
  {
   "cell_type": "code",
   "execution_count": 59,
   "id": "b0d6b62f",
   "metadata": {},
   "outputs": [],
   "source": [
    "experience_list = df['experience_level'].unique()\n",
    "\n",
    "mask=[]\n",
    "for experience in experience_list:\n",
    "    mask.append(df['experience_level']==experience) "
   ]
  },
  {
   "cell_type": "markdown",
   "id": "69150be3",
   "metadata": {},
   "source": [
    "### Calculando as porcentagens"
   ]
  },
  {
   "cell_type": "code",
   "execution_count": 60,
   "id": "c3d79b0d",
   "metadata": {},
   "outputs": [
    {
     "name": "stdout",
     "output_type": "stream",
     "text": [
      "Porcentagem de outliers de SE é de: 1.79%\n",
      "Porcentagem de outliers de MI é de: 1.86%\n",
      "Porcentagem de outliers de EN é de: 1.56%\n",
      "Porcentagem de outliers de EX é de: 0.88%\n"
     ]
    }
   ],
   "source": [
    "for i in range(len(mask)):\n",
    "    q3=df.salary_in_usd[mask[i]].quantile(0.75)\n",
    "    q1=df.salary_in_usd[mask[i]].quantile(0.25)\n",
    "    amp=q3-q1\n",
    "    ls=df.salary_in_usd[mask[i]]>q3+amp*1.5\n",
    "    li=df.salary_in_usd[mask[i]]<q1-amp*1.5\n",
    "    outliers=ls.sum()+li.sum()\n",
    "    porcentagem=outliers/df.salary_in_usd[mask[i]].count()\n",
    "    print('Porcentagem de outliers de '+experience_list[i]+' é de: '+f\"{porcentagem*100:.2f}\"+'%')"
   ]
  },
  {
   "cell_type": "markdown",
   "id": "6d051a55",
   "metadata": {},
   "source": [
    "#### Como a porcentagem de outliers é pequena, vamos tirar elas da nossa análise"
   ]
  },
  {
   "cell_type": "markdown",
   "id": "8f53f421",
   "metadata": {},
   "source": [
    "## Tratando os outliers"
   ]
  },
  {
   "cell_type": "code",
   "execution_count": 61,
   "id": "480bd551",
   "metadata": {
    "scrolled": true
   },
   "outputs": [
    {
     "data": {
      "text/html": [
       "<div>\n",
       "<style scoped>\n",
       "    .dataframe tbody tr th:only-of-type {\n",
       "        vertical-align: middle;\n",
       "    }\n",
       "\n",
       "    .dataframe tbody tr th {\n",
       "        vertical-align: top;\n",
       "    }\n",
       "\n",
       "    .dataframe thead th {\n",
       "        text-align: right;\n",
       "    }\n",
       "</style>\n",
       "<table border=\"1\" class=\"dataframe\">\n",
       "  <thead>\n",
       "    <tr style=\"text-align: right;\">\n",
       "      <th></th>\n",
       "      <th>work_year</th>\n",
       "      <th>experience_level</th>\n",
       "      <th>employment_type</th>\n",
       "      <th>job_title</th>\n",
       "      <th>salary_currency</th>\n",
       "      <th>salary_in_usd</th>\n",
       "      <th>employee_residence</th>\n",
       "      <th>remote_ratio</th>\n",
       "      <th>company_location</th>\n",
       "      <th>company_size</th>\n",
       "    </tr>\n",
       "  </thead>\n",
       "  <tbody>\n",
       "    <tr>\n",
       "      <th>0</th>\n",
       "      <td>2023</td>\n",
       "      <td>SE</td>\n",
       "      <td>FT</td>\n",
       "      <td>Principal Data Scientist</td>\n",
       "      <td>EUR</td>\n",
       "      <td>85847</td>\n",
       "      <td>ES</td>\n",
       "      <td>100</td>\n",
       "      <td>ES</td>\n",
       "      <td>L</td>\n",
       "    </tr>\n",
       "    <tr>\n",
       "      <th>1</th>\n",
       "      <td>2023</td>\n",
       "      <td>MI</td>\n",
       "      <td>CT</td>\n",
       "      <td>ML Engineer</td>\n",
       "      <td>USD</td>\n",
       "      <td>30000</td>\n",
       "      <td>US</td>\n",
       "      <td>100</td>\n",
       "      <td>US</td>\n",
       "      <td>S</td>\n",
       "    </tr>\n",
       "    <tr>\n",
       "      <th>2</th>\n",
       "      <td>2023</td>\n",
       "      <td>MI</td>\n",
       "      <td>CT</td>\n",
       "      <td>ML Engineer</td>\n",
       "      <td>USD</td>\n",
       "      <td>25500</td>\n",
       "      <td>US</td>\n",
       "      <td>100</td>\n",
       "      <td>US</td>\n",
       "      <td>S</td>\n",
       "    </tr>\n",
       "    <tr>\n",
       "      <th>3</th>\n",
       "      <td>2023</td>\n",
       "      <td>SE</td>\n",
       "      <td>FT</td>\n",
       "      <td>Data Scientist</td>\n",
       "      <td>USD</td>\n",
       "      <td>175000</td>\n",
       "      <td>CA</td>\n",
       "      <td>100</td>\n",
       "      <td>CA</td>\n",
       "      <td>M</td>\n",
       "    </tr>\n",
       "    <tr>\n",
       "      <th>4</th>\n",
       "      <td>2023</td>\n",
       "      <td>SE</td>\n",
       "      <td>FT</td>\n",
       "      <td>Data Scientist</td>\n",
       "      <td>USD</td>\n",
       "      <td>120000</td>\n",
       "      <td>CA</td>\n",
       "      <td>100</td>\n",
       "      <td>CA</td>\n",
       "      <td>M</td>\n",
       "    </tr>\n",
       "    <tr>\n",
       "      <th>...</th>\n",
       "      <td>...</td>\n",
       "      <td>...</td>\n",
       "      <td>...</td>\n",
       "      <td>...</td>\n",
       "      <td>...</td>\n",
       "      <td>...</td>\n",
       "      <td>...</td>\n",
       "      <td>...</td>\n",
       "      <td>...</td>\n",
       "      <td>...</td>\n",
       "    </tr>\n",
       "    <tr>\n",
       "      <th>3750</th>\n",
       "      <td>2020</td>\n",
       "      <td>SE</td>\n",
       "      <td>FT</td>\n",
       "      <td>Data Scientist</td>\n",
       "      <td>USD</td>\n",
       "      <td>412000</td>\n",
       "      <td>US</td>\n",
       "      <td>100</td>\n",
       "      <td>US</td>\n",
       "      <td>L</td>\n",
       "    </tr>\n",
       "    <tr>\n",
       "      <th>3751</th>\n",
       "      <td>2021</td>\n",
       "      <td>MI</td>\n",
       "      <td>FT</td>\n",
       "      <td>Principal Data Scientist</td>\n",
       "      <td>USD</td>\n",
       "      <td>151000</td>\n",
       "      <td>US</td>\n",
       "      <td>100</td>\n",
       "      <td>US</td>\n",
       "      <td>L</td>\n",
       "    </tr>\n",
       "    <tr>\n",
       "      <th>3752</th>\n",
       "      <td>2020</td>\n",
       "      <td>EN</td>\n",
       "      <td>FT</td>\n",
       "      <td>Data Scientist</td>\n",
       "      <td>USD</td>\n",
       "      <td>105000</td>\n",
       "      <td>US</td>\n",
       "      <td>100</td>\n",
       "      <td>US</td>\n",
       "      <td>S</td>\n",
       "    </tr>\n",
       "    <tr>\n",
       "      <th>3753</th>\n",
       "      <td>2020</td>\n",
       "      <td>EN</td>\n",
       "      <td>CT</td>\n",
       "      <td>Business Data Analyst</td>\n",
       "      <td>USD</td>\n",
       "      <td>100000</td>\n",
       "      <td>US</td>\n",
       "      <td>100</td>\n",
       "      <td>US</td>\n",
       "      <td>L</td>\n",
       "    </tr>\n",
       "    <tr>\n",
       "      <th>3754</th>\n",
       "      <td>2021</td>\n",
       "      <td>SE</td>\n",
       "      <td>FT</td>\n",
       "      <td>Data Science Manager</td>\n",
       "      <td>INR</td>\n",
       "      <td>94665</td>\n",
       "      <td>IN</td>\n",
       "      <td>50</td>\n",
       "      <td>IN</td>\n",
       "      <td>L</td>\n",
       "    </tr>\n",
       "  </tbody>\n",
       "</table>\n",
       "<p>3755 rows × 10 columns</p>\n",
       "</div>"
      ],
      "text/plain": [
       "      work_year experience_level employment_type                 job_title  \\\n",
       "0          2023               SE              FT  Principal Data Scientist   \n",
       "1          2023               MI              CT               ML Engineer   \n",
       "2          2023               MI              CT               ML Engineer   \n",
       "3          2023               SE              FT            Data Scientist   \n",
       "4          2023               SE              FT            Data Scientist   \n",
       "...         ...              ...             ...                       ...   \n",
       "3750       2020               SE              FT            Data Scientist   \n",
       "3751       2021               MI              FT  Principal Data Scientist   \n",
       "3752       2020               EN              FT            Data Scientist   \n",
       "3753       2020               EN              CT     Business Data Analyst   \n",
       "3754       2021               SE              FT      Data Science Manager   \n",
       "\n",
       "     salary_currency  salary_in_usd employee_residence  remote_ratio  \\\n",
       "0                EUR          85847                 ES           100   \n",
       "1                USD          30000                 US           100   \n",
       "2                USD          25500                 US           100   \n",
       "3                USD         175000                 CA           100   \n",
       "4                USD         120000                 CA           100   \n",
       "...              ...            ...                ...           ...   \n",
       "3750             USD         412000                 US           100   \n",
       "3751             USD         151000                 US           100   \n",
       "3752             USD         105000                 US           100   \n",
       "3753             USD         100000                 US           100   \n",
       "3754             INR          94665                 IN            50   \n",
       "\n",
       "     company_location company_size  \n",
       "0                  ES            L  \n",
       "1                  US            S  \n",
       "2                  US            S  \n",
       "3                  CA            M  \n",
       "4                  CA            M  \n",
       "...               ...          ...  \n",
       "3750               US            L  \n",
       "3751               US            L  \n",
       "3752               US            S  \n",
       "3753               US            L  \n",
       "3754               IN            L  \n",
       "\n",
       "[3755 rows x 10 columns]"
      ]
     },
     "execution_count": 61,
     "metadata": {},
     "output_type": "execute_result"
    }
   ],
   "source": [
    "df"
   ]
  },
  {
   "cell_type": "code",
   "execution_count": 62,
   "id": "eac88b4e",
   "metadata": {
    "scrolled": true
   },
   "outputs": [],
   "source": [
    "index=[]\n",
    "for i in range(len(mask)):  #Loop em salários para cada nível de experiência\n",
    "    df_sal_per_experience=df.salary_in_usd[mask[i]]\n",
    "    q3=df_sal_per_experience.quantile(0.75)\n",
    "    q1=df_sal_per_experience.quantile(0.25)\n",
    "    amp=q3-q1\n",
    "    ls=df_sal_per_experience>q3+amp*1.5\n",
    "    li=df_sal_per_experience<q1-amp*1.5\n",
    "    #Adicionando as colunas que não são outlier de cada nível de experiência na lista index\n",
    "    for i in df_sal_per_experience[~(li|ls)].index.to_list():\n",
    "        index.append(i)\n",
    "#Selecionando apenas os índices que não são outlier\n",
    "df=df.iloc[index,:]"
   ]
  },
  {
   "cell_type": "code",
   "execution_count": 63,
   "id": "0fdd6c85",
   "metadata": {},
   "outputs": [
    {
     "data": {
      "text/html": [
       "<div>\n",
       "<style scoped>\n",
       "    .dataframe tbody tr th:only-of-type {\n",
       "        vertical-align: middle;\n",
       "    }\n",
       "\n",
       "    .dataframe tbody tr th {\n",
       "        vertical-align: top;\n",
       "    }\n",
       "\n",
       "    .dataframe thead th {\n",
       "        text-align: right;\n",
       "    }\n",
       "</style>\n",
       "<table border=\"1\" class=\"dataframe\">\n",
       "  <thead>\n",
       "    <tr style=\"text-align: right;\">\n",
       "      <th></th>\n",
       "      <th>work_year</th>\n",
       "      <th>experience_level</th>\n",
       "      <th>employment_type</th>\n",
       "      <th>job_title</th>\n",
       "      <th>salary_currency</th>\n",
       "      <th>salary_in_usd</th>\n",
       "      <th>employee_residence</th>\n",
       "      <th>remote_ratio</th>\n",
       "      <th>company_location</th>\n",
       "      <th>company_size</th>\n",
       "    </tr>\n",
       "  </thead>\n",
       "  <tbody>\n",
       "    <tr>\n",
       "      <th>0</th>\n",
       "      <td>2023</td>\n",
       "      <td>SE</td>\n",
       "      <td>FT</td>\n",
       "      <td>Principal Data Scientist</td>\n",
       "      <td>EUR</td>\n",
       "      <td>85847</td>\n",
       "      <td>ES</td>\n",
       "      <td>100</td>\n",
       "      <td>ES</td>\n",
       "      <td>L</td>\n",
       "    </tr>\n",
       "    <tr>\n",
       "      <th>3</th>\n",
       "      <td>2023</td>\n",
       "      <td>SE</td>\n",
       "      <td>FT</td>\n",
       "      <td>Data Scientist</td>\n",
       "      <td>USD</td>\n",
       "      <td>175000</td>\n",
       "      <td>CA</td>\n",
       "      <td>100</td>\n",
       "      <td>CA</td>\n",
       "      <td>M</td>\n",
       "    </tr>\n",
       "    <tr>\n",
       "      <th>4</th>\n",
       "      <td>2023</td>\n",
       "      <td>SE</td>\n",
       "      <td>FT</td>\n",
       "      <td>Data Scientist</td>\n",
       "      <td>USD</td>\n",
       "      <td>120000</td>\n",
       "      <td>CA</td>\n",
       "      <td>100</td>\n",
       "      <td>CA</td>\n",
       "      <td>M</td>\n",
       "    </tr>\n",
       "    <tr>\n",
       "      <th>5</th>\n",
       "      <td>2023</td>\n",
       "      <td>SE</td>\n",
       "      <td>FT</td>\n",
       "      <td>Applied Scientist</td>\n",
       "      <td>USD</td>\n",
       "      <td>222200</td>\n",
       "      <td>US</td>\n",
       "      <td>0</td>\n",
       "      <td>US</td>\n",
       "      <td>L</td>\n",
       "    </tr>\n",
       "    <tr>\n",
       "      <th>6</th>\n",
       "      <td>2023</td>\n",
       "      <td>SE</td>\n",
       "      <td>FT</td>\n",
       "      <td>Applied Scientist</td>\n",
       "      <td>USD</td>\n",
       "      <td>136000</td>\n",
       "      <td>US</td>\n",
       "      <td>0</td>\n",
       "      <td>US</td>\n",
       "      <td>L</td>\n",
       "    </tr>\n",
       "    <tr>\n",
       "      <th>...</th>\n",
       "      <td>...</td>\n",
       "      <td>...</td>\n",
       "      <td>...</td>\n",
       "      <td>...</td>\n",
       "      <td>...</td>\n",
       "      <td>...</td>\n",
       "      <td>...</td>\n",
       "      <td>...</td>\n",
       "      <td>...</td>\n",
       "      <td>...</td>\n",
       "    </tr>\n",
       "    <tr>\n",
       "      <th>3558</th>\n",
       "      <td>2021</td>\n",
       "      <td>EX</td>\n",
       "      <td>FT</td>\n",
       "      <td>BI Data Analyst</td>\n",
       "      <td>USD</td>\n",
       "      <td>150000</td>\n",
       "      <td>IN</td>\n",
       "      <td>100</td>\n",
       "      <td>US</td>\n",
       "      <td>L</td>\n",
       "    </tr>\n",
       "    <tr>\n",
       "      <th>3559</th>\n",
       "      <td>2020</td>\n",
       "      <td>EX</td>\n",
       "      <td>FT</td>\n",
       "      <td>Data Engineer</td>\n",
       "      <td>EUR</td>\n",
       "      <td>79833</td>\n",
       "      <td>ES</td>\n",
       "      <td>50</td>\n",
       "      <td>ES</td>\n",
       "      <td>L</td>\n",
       "    </tr>\n",
       "    <tr>\n",
       "      <th>3643</th>\n",
       "      <td>2021</td>\n",
       "      <td>EX</td>\n",
       "      <td>FT</td>\n",
       "      <td>Director of Data Science</td>\n",
       "      <td>EUR</td>\n",
       "      <td>141846</td>\n",
       "      <td>DE</td>\n",
       "      <td>0</td>\n",
       "      <td>DE</td>\n",
       "      <td>L</td>\n",
       "    </tr>\n",
       "    <tr>\n",
       "      <th>3660</th>\n",
       "      <td>2021</td>\n",
       "      <td>EX</td>\n",
       "      <td>FT</td>\n",
       "      <td>Data Science Consultant</td>\n",
       "      <td>EUR</td>\n",
       "      <td>69741</td>\n",
       "      <td>FR</td>\n",
       "      <td>100</td>\n",
       "      <td>ES</td>\n",
       "      <td>S</td>\n",
       "    </tr>\n",
       "    <tr>\n",
       "      <th>3697</th>\n",
       "      <td>2020</td>\n",
       "      <td>EX</td>\n",
       "      <td>FT</td>\n",
       "      <td>Director of Data Science</td>\n",
       "      <td>USD</td>\n",
       "      <td>325000</td>\n",
       "      <td>US</td>\n",
       "      <td>100</td>\n",
       "      <td>US</td>\n",
       "      <td>L</td>\n",
       "    </tr>\n",
       "  </tbody>\n",
       "</table>\n",
       "<p>3689 rows × 10 columns</p>\n",
       "</div>"
      ],
      "text/plain": [
       "      work_year experience_level employment_type                 job_title  \\\n",
       "0          2023               SE              FT  Principal Data Scientist   \n",
       "3          2023               SE              FT            Data Scientist   \n",
       "4          2023               SE              FT            Data Scientist   \n",
       "5          2023               SE              FT         Applied Scientist   \n",
       "6          2023               SE              FT         Applied Scientist   \n",
       "...         ...              ...             ...                       ...   \n",
       "3558       2021               EX              FT           BI Data Analyst   \n",
       "3559       2020               EX              FT             Data Engineer   \n",
       "3643       2021               EX              FT  Director of Data Science   \n",
       "3660       2021               EX              FT   Data Science Consultant   \n",
       "3697       2020               EX              FT  Director of Data Science   \n",
       "\n",
       "     salary_currency  salary_in_usd employee_residence  remote_ratio  \\\n",
       "0                EUR          85847                 ES           100   \n",
       "3                USD         175000                 CA           100   \n",
       "4                USD         120000                 CA           100   \n",
       "5                USD         222200                 US             0   \n",
       "6                USD         136000                 US             0   \n",
       "...              ...            ...                ...           ...   \n",
       "3558             USD         150000                 IN           100   \n",
       "3559             EUR          79833                 ES            50   \n",
       "3643             EUR         141846                 DE             0   \n",
       "3660             EUR          69741                 FR           100   \n",
       "3697             USD         325000                 US           100   \n",
       "\n",
       "     company_location company_size  \n",
       "0                  ES            L  \n",
       "3                  CA            M  \n",
       "4                  CA            M  \n",
       "5                  US            L  \n",
       "6                  US            L  \n",
       "...               ...          ...  \n",
       "3558               US            L  \n",
       "3559               ES            L  \n",
       "3643               DE            L  \n",
       "3660               ES            S  \n",
       "3697               US            L  \n",
       "\n",
       "[3689 rows x 10 columns]"
      ]
     },
     "execution_count": 63,
     "metadata": {},
     "output_type": "execute_result"
    }
   ],
   "source": [
    "df"
   ]
  },
  {
   "cell_type": "markdown",
   "id": "3c2eda45",
   "metadata": {},
   "source": [
    "### Fazendo boxplot novamente"
   ]
  },
  {
   "cell_type": "code",
   "execution_count": 64,
   "id": "2fd94a9a",
   "metadata": {
    "scrolled": false
   },
   "outputs": [
    {
     "data": {
      "text/plain": [
       "<AxesSubplot:xlabel='experience_level', ylabel='salary_in_usd'>"
      ]
     },
     "execution_count": 64,
     "metadata": {},
     "output_type": "execute_result"
    },
    {
     "data": {
      "image/png": "[encoded data removed]",
      "text/plain": [
       "<Figure size 432x288 with 1 Axes>"
      ]
     },
     "metadata": {
      "needs_background": "light"
     },
     "output_type": "display_data"
    }
   ],
   "source": [
    "sns.boxplot(data=df,x='experience_level',y='salary_in_usd')"
   ]
  },
  {
   "cell_type": "markdown",
   "id": "e74cf984",
   "metadata": {},
   "source": [
    "## Análise exploratória dos dados"
   ]
  },
  {
   "cell_type": "code",
   "execution_count": 65,
   "id": "d7553236",
   "metadata": {},
   "outputs": [
    {
     "data": {
      "text/plain": [
       "(array([7.700e+01, 8.700e+01, 2.978e+03, 5.600e+01, 1.710e+02, 2.000e+00,\n",
       "        3.400e+01, 3.000e+00, 4.000e+00, 7.000e+00, 4.000e+00, 1.400e+01,\n",
       "        1.400e+01, 1.000e+01, 5.700e+01, 3.000e+00, 1.300e+01, 2.000e+00,\n",
       "        4.000e+00, 1.000e+00, 4.000e+00, 1.000e+00, 5.000e+00, 4.000e+00,\n",
       "        1.000e+00, 3.000e+00, 4.000e+00, 1.500e+01, 4.000e+00, 4.000e+00,\n",
       "        6.000e+00, 5.000e+00, 1.000e+00, 1.400e+01, 6.000e+00, 3.000e+00,\n",
       "        1.000e+00, 5.000e+00, 2.000e+00, 1.000e+00, 2.000e+00, 2.000e+00,\n",
       "        5.000e+00, 2.000e+00, 1.000e+00, 5.000e+00, 3.000e+00, 1.000e+00,\n",
       "        2.000e+00, 1.000e+00, 1.000e+00, 2.000e+00, 1.000e+00, 4.000e+00,\n",
       "        1.000e+00, 3.000e+00, 1.000e+00, 1.000e+00, 2.000e+00, 1.000e+00,\n",
       "        1.000e+00, 1.000e+00, 1.000e+00, 3.000e+00, 3.000e+00, 1.000e+00,\n",
       "        1.000e+00, 1.000e+00, 1.000e+00, 1.000e+00, 1.000e+00, 3.000e+00]),\n",
       " array([ 0.        ,  0.98611111,  1.97222222,  2.95833333,  3.94444444,\n",
       "         4.93055556,  5.91666667,  6.90277778,  7.88888889,  8.875     ,\n",
       "         9.86111111, 10.84722222, 11.83333333, 12.81944444, 13.80555556,\n",
       "        14.79166667, 15.77777778, 16.76388889, 17.75      , 18.73611111,\n",
       "        19.72222222, 20.70833333, 21.69444444, 22.68055556, 23.66666667,\n",
       "        24.65277778, 25.63888889, 26.625     , 27.61111111, 28.59722222,\n",
       "        29.58333333, 30.56944444, 31.55555556, 32.54166667, 33.52777778,\n",
       "        34.51388889, 35.5       , 36.48611111, 37.47222222, 38.45833333,\n",
       "        39.44444444, 40.43055556, 41.41666667, 42.40277778, 43.38888889,\n",
       "        44.375     , 45.36111111, 46.34722222, 47.33333333, 48.31944444,\n",
       "        49.30555556, 50.29166667, 51.27777778, 52.26388889, 53.25      ,\n",
       "        54.23611111, 55.22222222, 56.20833333, 57.19444444, 58.18055556,\n",
       "        59.16666667, 60.15277778, 61.13888889, 62.125     , 63.11111111,\n",
       "        64.09722222, 65.08333333, 66.06944444, 67.05555556, 68.04166667,\n",
       "        69.02777778, 70.01388889, 71.        ]),\n",
       " <BarContainer object of 72 artists>)"
      ]
     },
     "execution_count": 65,
     "metadata": {},
     "output_type": "execute_result"
    },
    {
     "data": {
      "image/png": "[encoded data removed]",
      "text/plain": [
       "<Figure size 1440x1440 with 1 Axes>"
      ]
     },
     "metadata": {
      "needs_background": "light"
     },
     "output_type": "display_data"
    }
   ],
   "source": [
    "plt.figure(figsize=(20,20))\n",
    "plt.hist(df.company_location,bins=len(df.company_location.unique()),edgecolor='black',color='fuchsia')"
   ]
  },
  {
   "cell_type": "markdown",
   "id": "c2a32de3",
   "metadata": {},
   "source": [
    "#### Temos muitos dados de cientista de dados do Estados Unidos"
   ]
  },
  {
   "cell_type": "code",
   "execution_count": 66,
   "id": "d0a1e73a",
   "metadata": {
    "scrolled": true
   },
   "outputs": [
    {
     "data": {
      "text/plain": [
       "(array([  73.,    0.,    0.,  226.,    0.,    0., 1644.,    0.,    0.,\n",
       "        1746.]),\n",
       " array([2020. , 2020.3, 2020.6, 2020.9, 2021.2, 2021.5, 2021.8, 2022.1,\n",
       "        2022.4, 2022.7, 2023. ]),\n",
       " <BarContainer object of 10 artists>)"
      ]
     },
     "execution_count": 66,
     "metadata": {},
     "output_type": "execute_result"
    },
    {
     "data": {
      "image/png": "[encoded data removed]",
      "text/plain": [
       "<Figure size 432x288 with 1 Axes>"
      ]
     },
     "metadata": {
      "needs_background": "light"
     },
     "output_type": "display_data"
    }
   ],
   "source": [
    "plt.hist(df.work_year)"
   ]
  },
  {
   "cell_type": "markdown",
   "id": "15ddeb57",
   "metadata": {},
   "source": [
    "#### Número de profissionais de Data Science cresceu muito de 2021 para 2022 "
   ]
  },
  {
   "cell_type": "markdown",
   "id": "94e488a2",
   "metadata": {},
   "source": [
    "### Análise das Correlações"
   ]
  },
  {
   "cell_type": "code",
   "execution_count": 67,
   "id": "3dcc6700",
   "metadata": {},
   "outputs": [
    {
     "data": {
      "text/plain": [
       "<AxesSubplot:>"
      ]
     },
     "execution_count": 67,
     "metadata": {},
     "output_type": "execute_result"
    },
    {
     "data": {
      "image/png": "[encoded data removed]",
      "text/plain": [
       "<Figure size 720x720 with 2 Axes>"
      ]
     },
     "metadata": {
      "needs_background": "light"
     },
     "output_type": "display_data"
    }
   ],
   "source": [
    "plt.figure(figsize=(10,10))\n",
    "sns.heatmap(df.corr(), annot=True, cmap='Blues')"
   ]
  },
  {
   "cell_type": "markdown",
   "id": "f5213cac",
   "metadata": {},
   "source": [
    "#### As variáveis quantitativas não tem muita correlação entre si, então modelo de Naive Bayes talvez possa performar bem"
   ]
  },
  {
   "cell_type": "code",
   "execution_count": 68,
   "id": "9b568f89",
   "metadata": {
    "scrolled": true
   },
   "outputs": [
    {
     "data": {
      "text/plain": [
       "<AxesSubplot:xlabel='work_year', ylabel='salary_in_usd'>"
      ]
     },
     "execution_count": 68,
     "metadata": {},
     "output_type": "execute_result"
    },
    {
     "data": {
      "image/png": "[encoded data removed]",
      "text/plain": [
       "<Figure size 432x288 with 1 Axes>"
      ]
     },
     "metadata": {
      "needs_background": "light"
     },
     "output_type": "display_data"
    }
   ],
   "source": [
    "sns.barplot(data=df,x='work_year',y='salary_in_usd', hue='experience_level')"
   ]
  },
  {
   "cell_type": "markdown",
   "id": "ccb117f9",
   "metadata": {},
   "source": [
    "#### O salário aumentou ao longo dos anos para todos os níveis de experiência, além disso o nível de experiência afeta na média salarial"
   ]
  },
  {
   "cell_type": "code",
   "execution_count": 69,
   "id": "471fd181",
   "metadata": {
    "scrolled": true
   },
   "outputs": [
    {
     "data": {
      "text/plain": [
       "<AxesSubplot:xlabel='salary_in_usd', ylabel='employment_type'>"
      ]
     },
     "execution_count": 69,
     "metadata": {},
     "output_type": "execute_result"
    },
    {
     "data": {
      "image/png": "[encoded data removed]",
      "text/plain": [
       "<Figure size 432x288 with 1 Axes>"
      ]
     },
     "metadata": {
      "needs_background": "light"
     },
     "output_type": "display_data"
    }
   ],
   "source": [
    "sns.barplot(data=df,x='salary_in_usd',y='employment_type')"
   ]
  },
  {
   "cell_type": "code",
   "execution_count": 70,
   "id": "625bac21",
   "metadata": {
    "scrolled": true
   },
   "outputs": [
    {
     "data": {
      "image/png": "[encoded data removed]",
      "text/plain": [
       "<Figure size 3600x1440 with 1 Axes>"
      ]
     },
     "metadata": {
      "needs_background": "light"
     },
     "output_type": "display_data"
    }
   ],
   "source": [
    "plt.figure(figsize=(50,20))\n",
    "sns.barplot(data=df,y='salary_in_usd',x='company_location',hue='experience_level')\n",
    "plt.savefig(r'D:\\Desktop\\Data Science\\Python para Data Science e Analytics\\grafico.jpeg')"
   ]
  },
  {
   "cell_type": "markdown",
   "id": "14958081",
   "metadata": {},
   "source": [
    "#### O local da empresa influencia no salário médio de cada nível de experiência"
   ]
  },
  {
   "cell_type": "code",
   "execution_count": 71,
   "id": "39b23c33",
   "metadata": {},
   "outputs": [
    {
     "data": {
      "image/png": "[encoded data removed]",
      "text/plain": [
       "<Figure size 3600x1440 with 1 Axes>"
      ]
     },
     "metadata": {
      "needs_background": "light"
     },
     "output_type": "display_data"
    }
   ],
   "source": [
    "plt.figure(figsize=(50,20))\n",
    "sns.barplot(data=df,y='salary_in_usd',x='job_title',hue='experience_level')\n",
    "plt.savefig(r'D:\\Desktop\\Data Science\\Python para Data Science e Analytics\\grafico.jpeg')"
   ]
  },
  {
   "cell_type": "markdown",
   "id": "fde7bb52",
   "metadata": {},
   "source": [
    "#### employment type influencia no salário médio, logo pode ser considerada variável categórica ordinal"
   ]
  },
  {
   "cell_type": "code",
   "execution_count": 72,
   "id": "ecb77fcc",
   "metadata": {},
   "outputs": [
    {
     "data": {
      "text/plain": [
       "Index(['work_year', 'experience_level', 'employment_type', 'job_title',\n",
       "       'salary_currency', 'salary_in_usd', 'employee_residence',\n",
       "       'remote_ratio', 'company_location', 'company_size'],\n",
       "      dtype='object')"
      ]
     },
     "execution_count": 72,
     "metadata": {},
     "output_type": "execute_result"
    }
   ],
   "source": [
    "df.columns"
   ]
  },
  {
   "cell_type": "markdown",
   "id": "b82d7036",
   "metadata": {},
   "source": [
    "#### Remote ratio é bem distribuído em relação ás outras variáveis"
   ]
  },
  {
   "cell_type": "markdown",
   "id": "20b6916f",
   "metadata": {},
   "source": [
    "## Tratamento de variáveis categóricas"
   ]
  },
  {
   "cell_type": "code",
   "execution_count": 73,
   "id": "875e631c",
   "metadata": {},
   "outputs": [],
   "source": [
    "df_experience={'experience_level':['EN','MI','SE','EX'],'experience_level_encoded':[1,2,3,4]}\n",
    "df_experience=pd.DataFrame(df_experience)"
   ]
  },
  {
   "cell_type": "code",
   "execution_count": 74,
   "id": "281901eb",
   "metadata": {},
   "outputs": [
    {
     "data": {
      "text/html": [
       "<div>\n",
       "<style scoped>\n",
       "    .dataframe tbody tr th:only-of-type {\n",
       "        vertical-align: middle;\n",
       "    }\n",
       "\n",
       "    .dataframe tbody tr th {\n",
       "        vertical-align: top;\n",
       "    }\n",
       "\n",
       "    .dataframe thead th {\n",
       "        text-align: right;\n",
       "    }\n",
       "</style>\n",
       "<table border=\"1\" class=\"dataframe\">\n",
       "  <thead>\n",
       "    <tr style=\"text-align: right;\">\n",
       "      <th></th>\n",
       "      <th>experience_level</th>\n",
       "      <th>experience_level_encoded</th>\n",
       "    </tr>\n",
       "  </thead>\n",
       "  <tbody>\n",
       "    <tr>\n",
       "      <th>0</th>\n",
       "      <td>EN</td>\n",
       "      <td>1</td>\n",
       "    </tr>\n",
       "    <tr>\n",
       "      <th>1</th>\n",
       "      <td>MI</td>\n",
       "      <td>2</td>\n",
       "    </tr>\n",
       "    <tr>\n",
       "      <th>2</th>\n",
       "      <td>SE</td>\n",
       "      <td>3</td>\n",
       "    </tr>\n",
       "    <tr>\n",
       "      <th>3</th>\n",
       "      <td>EX</td>\n",
       "      <td>4</td>\n",
       "    </tr>\n",
       "  </tbody>\n",
       "</table>\n",
       "</div>"
      ],
      "text/plain": [
       "  experience_level  experience_level_encoded\n",
       "0               EN                         1\n",
       "1               MI                         2\n",
       "2               SE                         3\n",
       "3               EX                         4"
      ]
     },
     "execution_count": 74,
     "metadata": {},
     "output_type": "execute_result"
    }
   ],
   "source": [
    "df_experience"
   ]
  },
  {
   "cell_type": "code",
   "execution_count": 75,
   "id": "4e0b1053",
   "metadata": {},
   "outputs": [],
   "source": [
    "df=pd.merge(df,df_experience,on='experience_level')\n",
    "df\n",
    "df=df.drop('experience_level',axis=1)"
   ]
  },
  {
   "cell_type": "code",
   "execution_count": 76,
   "id": "ecca2a53",
   "metadata": {},
   "outputs": [],
   "source": [
    "#Gerando colunas qualitativas das colunas quantitativas\n",
    "quali=quali.drop('experience_level')\n",
    "from sklearn.preprocessing import LabelEncoder\n",
    "encoder=LabelEncoder()\n",
    "for coluna in quali:\n",
    "    df[str(coluna)+'_encoded']=encoder.fit_transform(df[coluna])\n"
   ]
  },
  {
   "cell_type": "code",
   "execution_count": 77,
   "id": "91f73b8a",
   "metadata": {},
   "outputs": [],
   "source": [
    "#Deletando as colunas categóricas originais\n",
    "df=df.drop(quali.to_list(), axis=1)"
   ]
  },
  {
   "cell_type": "markdown",
   "id": "15404f3c",
   "metadata": {},
   "source": [
    "## Padronização das variáveis de entrada"
   ]
  },
  {
   "cell_type": "code",
   "execution_count": 78,
   "id": "2d4ebf17",
   "metadata": {},
   "outputs": [],
   "source": [
    "from sklearn.preprocessing import StandardScaler\n",
    "scaler=StandardScaler()\n",
    "X=df.drop('salary_in_usd',axis=1)\n",
    "X=pd.DataFrame(scaler.fit_transform(X),columns=X.columns)\n",
    "Y=df['salary_in_usd']"
   ]
  },
  {
   "cell_type": "markdown",
   "id": "ba0c76ef",
   "metadata": {},
   "source": [
    "## Quebrando o Dataframe em treino e teste"
   ]
  },
  {
   "cell_type": "code",
   "execution_count": 79,
   "id": "59653dc5",
   "metadata": {},
   "outputs": [],
   "source": [
    "from sklearn.model_selection import train_test_split\n",
    "x_train, x_test, y_train, y_test = train_test_split(X,Y,test_size=0.3, random_state=42)"
   ]
  },
  {
   "cell_type": "markdown",
   "id": "ea68912e",
   "metadata": {},
   "source": [
    "## Modelagem estatística"
   ]
  },
  {
   "cell_type": "markdown",
   "id": "7338a36c",
   "metadata": {},
   "source": [
    "### 1. Regressão Linear"
   ]
  },
  {
   "cell_type": "code",
   "execution_count": 80,
   "id": "0552d0ba",
   "metadata": {
    "scrolled": true
   },
   "outputs": [],
   "source": [
    "from sklearn.linear_model import LinearRegression\n",
    "lr=LinearRegression()\n",
    "lr.fit(x_train,y_train)\n",
    "y_pred=lr.predict(x_test)\n",
    "y_pred_train=lr.predict(x_train)"
   ]
  },
  {
   "cell_type": "code",
   "execution_count": 82,
   "id": "7ce8b547",
   "metadata": {},
   "outputs": [
    {
     "name": "stdout",
     "output_type": "stream",
     "text": [
      "R-quadrado para os dados de treino\n",
      "0.39015021820520357\n",
      "R-quadrado para os dados de teste\n",
      "0.3631288427187971\n"
     ]
    }
   ],
   "source": [
    "from sklearn.metrics import r2_score\n",
    "print('R-quadrado para os dados de treino')\n",
    "print(r2_score(y_train,y_pred_train))\n",
    "print('R-quadrado para os dados de teste')\n",
    "print(r2_score(y_test,y_pred))"
   ]
  },
  {
   "cell_type": "markdown",
   "id": "9bde88db",
   "metadata": {},
   "source": [
    "#### O modelo não performou bem nem para os dados de treino e nem para os dados de teste"
   ]
  },
  {
   "cell_type": "markdown",
   "id": "e98c93d8",
   "metadata": {},
   "source": [
    "## "
   ]
  },
  {
   "cell_type": "code",
   "execution_count": null,
   "id": "7db8af6c",
   "metadata": {},
   "outputs": [],
   "source": []
  }
 ],
 "metadata": {
  "kernelspec": {
   "display_name": "Python 3 (ipykernel)",
   "language": "python",
   "name": "python3"
  },
  "language_info": {
   "codemirror_mode": {
    "name": "ipython",
    "version": 3
   },
   "file_extension": ".py",
   "mimetype": "text/x-python",
   "name": "python",
   "nbconvert_exporter": "python",
   "pygments_lexer": "ipython3",
   "version": "3.9.12"
  }
 },
 "nbformat": 4,
 "nbformat_minor": 5
}
